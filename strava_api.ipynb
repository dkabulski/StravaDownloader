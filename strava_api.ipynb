{
  "nbformat": 4,
  "nbformat_minor": 0,
  "metadata": {
    "colab": {
      "name": "strava_api.ipynb",
      "provenance": [],
      "authorship_tag": "ABX9TyNP1gA6UA9YZYq4pe0tvTzK",
      "include_colab_link": true
    },
    "kernelspec": {
      "name": "python3",
      "display_name": "Python 3"
    }
  },
  "cells": [
    {
      "cell_type": "markdown",
      "metadata": {
        "id": "view-in-github",
        "colab_type": "text"
      },
      "source": [
        "<a href=\"https://colab.research.google.com/github/dkabulski/StravaDownloader/blob/main/strava_api.ipynb\" target=\"_parent\"><img src=\"https://colab.research.google.com/assets/colab-badge.svg\" alt=\"Open In Colab\"/></a>"
      ]
    },
    {
      "cell_type": "markdown",
      "metadata": {
        "id": "fVQ5M5uhrT_R"
      },
      "source": [
        "# CONNECT GOOGLE DRIVE AND SAVE DATAFRAME & RESPONSES"
      ]
    },
    {
      "cell_type": "code",
      "metadata": {
        "id": "ug7_CHL8MqES"
      },
      "source": [
        "import pandas as pd\n",
        "import time\n",
        "\n",
        "pd.set_option('display.max_rows', 500)\n",
        "pd.set_option('display.max_columns', 500)\n",
        "pd.set_option('display.width', 1000)"
      ],
      "execution_count": null,
      "outputs": []
    },
    {
      "cell_type": "code",
      "metadata": {
        "id": "BhLR5CFilzVO"
      },
      "source": [
        "# Mount Google Drive. Once mounted will work as mounted Data Lake / local dir\n",
        "# can also run drive.flush_and_unmount()\n",
        "# if it fails just restart the runtime\n",
        "from google.colab import drive\n",
        "drive.mount(\"/content/drive\", force_remount=True)\n",
        "\n",
        "#%ls\n",
        "#%mkdir strava_outputs\n",
        "\n",
        "#https://www.youtube.com/watch?v=sgscChKfGyg&t=627s"
      ],
      "execution_count": null,
      "outputs": []
    },
    {
      "cell_type": "code",
      "metadata": {
        "id": "j2TaSUK_MmZ0"
      },
      "source": [
        "# go to strava_outputs directory where we'll be saving all results in raw .json format\n",
        "%cd /content/drive/My\\ Drive/python_workbooks/strava_outputs\n"
      ],
      "execution_count": null,
      "outputs": []
    },
    {
      "cell_type": "markdown",
      "metadata": {
        "id": "9ILz9IqkjQ69"
      },
      "source": [
        "# KEYS READ"
      ]
    },
    {
      "cell_type": "markdown",
      "metadata": {
        "id": "pS_zDaOj38Ho"
      },
      "source": [
        ""
      ]
    },
    {
      "cell_type": "code",
      "metadata": {
        "id": "-zKyTymOwUY9"
      },
      "source": [
        "# move this to secrets store\n",
        "STRAVA_CLIENT_ID = intToGetfromStrava\n",
        "STRAVA_CLIENT_SECRET = 'updatefromStravaAPIPage' # keep secret! static\n",
        "STRAVA_ACCESS_TOKEN = 'AAA' #this one expires - will be updated using refresh_token\n",
        "STRAVA_REFRESH_TOKEN = 'STRAVAPROVIDES' #this can be used to refresh the above, static. keep secret!\n"
      ],
      "execution_count": null,
      "outputs": []
    },
    {
      "cell_type": "markdown",
      "metadata": {
        "id": "EZurVq5v-w7R"
      },
      "source": [
        "# STRAVA ACTIVITY READ classic manual method"
      ]
    },
    {
      "cell_type": "code",
      "metadata": {
        "id": "tQXSTCu34014"
      },
      "source": [
        "# connect to google drive spreadsheet for later to load the activities\n",
        "import gspread\n",
        "from oauth2client.service_account import ServiceAccountCredentials\n",
        "\n",
        "%cd /content/drive/My\\ Drive/python_workbooks/\n",
        "\n",
        "# use creds to create a client to interact with the Google Drive API\n",
        "#scope = ['https://spreadsheets.google.com/feeds']\n",
        "scope = ['https://spreadsheets.google.com/feeds' + ' ' +'https://www.googleapis.com/auth/drive']\n",
        "credentials = ServiceAccountCredentials.from_json_keyfile_name('client_secret.json', scope)\n",
        "gc = gspread.authorize(credentials)\n",
        "\n"
      ],
      "execution_count": null,
      "outputs": []
    },
    {
      "cell_type": "code",
      "metadata": {
        "id": "8PNIaFDmxqMF"
      },
      "source": [
        "\n",
        "import requests\n",
        "import json\n",
        "import urllib\n",
        "from requests_oauthlib import OAuth2Session\n",
        "base_url = \"https://www.strava.com/oauth/authorize?\"\n",
        "known_response = requests.get(base_url)\n",
        "redirect_uri = \"http://localhost/exchange_token\"\n",
        "\n",
        "\n",
        "#first scope is for all (including private), second only public activities\n",
        "strava_scope = 'read,read_all,activity:read,activity:read_all,profile:read_all'\n",
        "#strava_scope = 'read,read_all,activity:read'\n",
        "oauth2_session = OAuth2Session(STRAVA_CLIENT_ID,  redirect_uri=redirect_uri, scope=strava_scope)\n",
        "authorization_request, state = oauth2_session.authorization_url(base_url)#,STATE)\n",
        "print(\"Click on the following link to present the user with sign in form where they authenticate and approve access to your application.\")\n",
        "print(authorization_request) "
      ],
      "execution_count": null,
      "outputs": []
    },
    {
      "cell_type": "code",
      "metadata": {
        "id": "vjddNP6sJ7vv"
      },
      "source": [
        "code = 'pasteCodeHere' #update using strava OAuth2Session above. Copy the code bit."
      ],
      "execution_count": null,
      "outputs": []
    },
    {
      "cell_type": "code",
      "metadata": {
        "id": "hyJIQMxVwhg8"
      },
      "source": [
        "#GETTING NEW ACCESS TOKEN USING REFRESH_TOKEN METHOD\n",
        "import requests\n",
        "from datetime import datetime\n",
        "\n",
        "import urllib3\n",
        "urllib3.disable_warnings()\n",
        "\n",
        "\n",
        "auth_url =\"https://www.strava.com/oauth/token\"\n",
        "payload = {\n",
        "    'client_id' : STRAVA_CLIENT_ID,\n",
        "    'client_secret' : STRAVA_CLIENT_SECRET,\n",
        "    #'refresh_token' : STRAVA_REFRESH_TOKEN,\n",
        "    'code': code,\n",
        "    #'grant_type' : \"refresh_token\",\n",
        "    'grant_type': 'authorization_code'\n",
        "    #'scope': 'read,read_all,activity:read,activity:read_all,profile:read_all',\n",
        "    #'f':'json'\n",
        "}\n",
        "print(\"Requesting the token...\\n\")\n",
        "res = requests.post(auth_url,data=payload,verify=False)\n",
        "print(res.json())\n",
        "\n",
        "access_token = res.json()['access_token']\n",
        "expiry_ts = res.json()['expires_at']\n",
        "print(\"New token will expire at: \",end='\\t')\n",
        "print(datetime.utcfromtimestamp(expiry_ts).strftime('%Y-%m-%d %H:%M:%S'))\n",
        "print(access_token)\n",
        "\n",
        "\n",
        "############\n",
        "activites_url = \"https://www.strava.com/api/v3/athlete/activities\"\n",
        "activites_url = \"https://www.strava.com/api/v3/athlete\"\n",
        "\n",
        "header = {'Authorization': 'Bearer ' + access_token}\n",
        "param = {'per_page': 200, 'page': 1}\n",
        "\n",
        "my_dataset = requests.get(activites_url, headers=header, params=param).json()\n",
        "print(\"Authenticated Athleete: \",my_dataset['username'])"
      ],
      "execution_count": null,
      "outputs": []
    },
    {
      "cell_type": "code",
      "metadata": {
        "id": "1m9u-f0xBjAs"
      },
      "source": [
        "#READ ATHLETE DETAILS - activity count\n",
        "import requests\n",
        "import json\n",
        "\n",
        "athlete_id = yourAthleteID\n",
        "url = 'https://www.strava.com/api/v3/athletes/'+str(athlete_id)+'/stats'\n",
        "print(url)\n",
        "\n",
        "\n",
        "output_list = []\n",
        "params = {'access_token': access_token, 'per_page': 100, 'page': 1}\n",
        "\n",
        "\n",
        "r = requests.get(url, params = params)\n",
        "print(\"Reading page \",\"finished with \",str(r),\" code\")\n",
        "data = r.json()\n",
        "print(data)\n",
        "#activities_count = data['all_run_totals']['count'] + data['all_swim_totals']['count'] + data['all_ride_totals']['count']\n",
        "#activities_count =data['all_ride_totals']['count']\n",
        "#print(\"Total run, ride, swim activities: \",activities_count)"
      ],
      "execution_count": null,
      "outputs": []
    },
    {
      "cell_type": "code",
      "metadata": {
        "id": "VAAQKbCjzfX-"
      },
      "source": [
        "# #READ ATHLETE's SEGMENTS\n",
        "# import requests\n",
        "# import json\n",
        "\n",
        "# athlete_id = athleteID\n",
        "# url = 'https://www.strava.com/api/v3/segments/starred'\n",
        "# print(url)\n",
        "\n",
        "\n",
        "# output_list = []\n",
        "# params = {'access_token': access_token, 'per_page': 100, 'page': 1}\n",
        "\n",
        "\n",
        "# r = requests.get(url, params = params)\n",
        "# print(\"Reading page \",\"finished with \",str(r),\" code\")\n",
        "# data = r.json()\n",
        "\n",
        "# for segment in data:\n",
        "#   print(segment)"
      ],
      "execution_count": null,
      "outputs": []
    },
    {
      "cell_type": "code",
      "metadata": {
        "id": "0VQ03Z3r0B4E"
      },
      "source": [
        "\n",
        "# #READ Segment details\n",
        "# import requests\n",
        "# import json\n",
        "\n",
        "# segment_id = 6691038 #swains lane\n",
        "# url = 'https://www.strava.com/api/v3/segments/'+str(segment_id)\n",
        "# print(url)\n",
        "\n",
        "\n",
        "# output_list = []\n",
        "# params = {'access_token': access_token, 'per_page': 100, 'page': 1}\n",
        "\n",
        "\n",
        "# r = requests.get(url, params = params)\n",
        "# print(\"Reading segment\",segment_id,\"finished with \",str(r),\" code\")\n",
        "# data = r.json()\n",
        "\n",
        "# #print(data)\n"
      ],
      "execution_count": null,
      "outputs": []
    },
    {
      "cell_type": "code",
      "metadata": {
        "id": "bhUlkR-Z0kbB"
      },
      "source": [
        "# segment_details = []\n",
        "# for k,v in data.items():\n",
        "#   segdict = {}\n",
        "#   segdict[k] = v\n",
        "\n",
        "#   segment_details.append(segdict)\n",
        "# segment_details"
      ],
      "execution_count": null,
      "outputs": []
    },
    {
      "cell_type": "code",
      "metadata": {
        "id": "-06OmlCpTDNl"
      },
      "source": [
        "# go to strava_outputs directory where we'll be saving all results in raw .json format\n",
        "%cd /content/drive/My\\ Drive/python_workbooks/strava_outputs\n"
      ],
      "execution_count": null,
      "outputs": []
    },
    {
      "cell_type": "code",
      "metadata": {
        "id": "_4cW9c-z1pgZ"
      },
      "source": [
        "import requests\n",
        "import json\n",
        "\n",
        "url = 'https://www.strava.com/api/v3/athlete/activities'\n",
        "\n",
        "#with 100 activities per page you need to calculate how many requests to make. Divide activities you've made by 100\n",
        "#in this case it's good to load all actities. Doesn't take long and those can historically change (kudos, flagged, updated shoes etc.)\n",
        "\n",
        "page = 1\n",
        "#starting_page = 1\n",
        "#limit = 42\n",
        "\n",
        "output_list = []\n",
        "params = {'access_token': access_token, 'per_page': 100, 'page': 1}\n",
        "#for i in range(starting_page, limit):\n",
        "content = 1\n",
        "while content > 0:\n",
        "  params['page'] = page\n",
        "\n",
        "  r = requests.get(url, params = params)\n",
        "  print(\"Reading page\",params['page'],\"finished with\",str(r),\" code\")\n",
        "  data = r.json()\n",
        "  content = len(data)\n",
        "  page = page+1\n",
        "\n",
        "\n",
        "\n",
        "\n",
        "\n",
        "  # save outputs to drive as json file\n",
        "  filename = \"activities_\"+str(params['page'])+\"_25\"+\".json\"\n",
        "  with open(filename, 'w') as f:\n",
        "    f.write(json.dumps(data))\n",
        "\n",
        "  output_list.append(data)"
      ],
      "execution_count": null,
      "outputs": []
    },
    {
      "cell_type": "code",
      "metadata": {
        "id": "wid35t18660n"
      },
      "source": [
        "print(len(output_list))\n",
        "#output_list[0]"
      ],
      "execution_count": null,
      "outputs": []
    },
    {
      "cell_type": "code",
      "metadata": {
        "id": "_5c4yYyw7RXq"
      },
      "source": [
        "available_fields = []\n",
        "for item in output_list[0][0]:\n",
        "  available_fields.append(item)\n",
        "print(available_fields)"
      ],
      "execution_count": null,
      "outputs": []
    },
    {
      "cell_type": "code",
      "metadata": {
        "id": "5tHNzag3kiQe"
      },
      "source": [
        "# TODO\n",
        "# - tag activities with incorrect HR as heartrate_opt_out\n",
        "# - use push to update activities with a correct gear based on what's in Excel\n",
        "# - tidy up the code & perhaps authentication? (so it's just a pop-up link, without having a need to copy 'code')"
      ],
      "execution_count": null,
      "outputs": []
    },
    {
      "cell_type": "code",
      "metadata": {
        "id": "Un7XXdZIT-6V"
      },
      "source": [
        "actlist = []\n",
        "for page in output_list:\n",
        "  for item in page:\n",
        "    actdict = {}\n",
        "    for field in available_fields:\n",
        "      if field in item:\n",
        "        actdict[field] = item[field]\n",
        "    actlist.append(actdict)\n",
        "\n",
        "actDF = pd.DataFrame(actlist)\n",
        "print(actDF.shape)\n",
        "\n",
        "actDF['date_datetime'] = pd.to_datetime(actDF['start_date_local'],utc=True)\n",
        "actDF['date_date'] =actDF['date_datetime'].dt.date\n",
        "actDF['hour'] = actDF['date_datetime'].dt.hour\n",
        "actDF['month'] = actDF['date_datetime'].dt.month\n",
        "actDF['year'] = actDF['date_datetime'].dt.year\n",
        "actDF['dateActType'] = actDF['date_date'].astype(str) + actDF['type']\n",
        "#actDF['stringMatch'] = actDF['date_date']+actDF['type']\n",
        "\n",
        "cols = actDF.columns.tolist()\n",
        "cols = cols[-1:] + cols[:-1]\n",
        "actDF = actDF[cols]\n",
        "\n",
        "actDF.head(3)"
      ],
      "execution_count": null,
      "outputs": []
    },
    {
      "cell_type": "code",
      "source": [
        "# filter activities by id:\n",
        "# actDF[actDF['upload_id']==4768757768]"
      ],
      "metadata": {
        "id": "mzpX__2m53J8"
      },
      "execution_count": null,
      "outputs": []
    },
    {
      "cell_type": "code",
      "source": [
        "\n",
        "# actDF[actDF['heartrate_opt_out']==True]"
      ],
      "metadata": {
        "id": "oXOyggny6XTY"
      },
      "execution_count": 1,
      "outputs": []
    },
    {
      "cell_type": "code",
      "source": [
        "actDF"
      ],
      "metadata": {
        "id": "OZIj_sMB8VBZ"
      },
      "execution_count": null,
      "outputs": []
    },
    {
      "cell_type": "markdown",
      "source": [
        ""
      ],
      "metadata": {
        "id": "DtbkiHj38U0t"
      }
    },
    {
      "cell_type": "markdown",
      "metadata": {
        "id": "8xi786DBN92o"
      },
      "source": [
        "# Load data into googlesheet\n",
        "https://console.developers.google.com/?pli=1"
      ]
    },
    {
      "cell_type": "code",
      "metadata": {
        "id": "LnD5XHj1OE45"
      },
      "source": [
        "#%pip install df2gspread\n",
        "\n",
        "import gspread\n",
        "from oauth2client.service_account import ServiceAccountCredentials\n",
        "\n",
        "%cd /content/drive/My\\ Drive/python_workbooks\n",
        "\n",
        "# use creds to create a client to interact with the Google Drive API\n",
        "#scope = ['https://spreadsheets.google.com/feeds']\n",
        "scope = ['https://spreadsheets.google.com/feeds' + ' ' +'https://www.googleapis.com/auth/drive']\n",
        "credentials = ServiceAccountCredentials.from_json_keyfile_name('client_secret.json', scope)\n",
        "gc = gspread.authorize(credentials)\n",
        "\n",
        "\n",
        "# Find a workbook by name and open the first sheet\n",
        "# Make sure you use the right name here.\n",
        "#sheet = gc.open(\"daily run results\").sheet\n"
      ],
      "execution_count": null,
      "outputs": []
    },
    {
      "cell_type": "code",
      "metadata": {
        "id": "X3wZSYsUI5fG"
      },
      "source": [
        "spreadsheet = gc.open(\"daily run results\")\n",
        "#this assumes that first sheet is the STRAVA_TEST sheet, if it doesn't exist it will create it\n",
        "try:\n",
        "  worksheet = spreadsheet.add_worksheet(title=\"STRAVA_TEST\", rows=\"10000\", cols=\"20\")\n",
        "except:\n",
        "  worksheet = spreadsheet.get_worksheet(0)"
      ],
      "execution_count": null,
      "outputs": []
    },
    {
      "cell_type": "code",
      "metadata": {
        "id": "s5jMM7mBPYnN"
      },
      "source": [
        "\n",
        "import gspread\n",
        "from gspread_dataframe import set_with_dataframe\n",
        "\n",
        "# APPEND DATA TO SHEET\n",
        "#sheet = select_worksheet('worksheet key here',1)\n",
        "set_with_dataframe(worksheet, actDF) #-> THIS EXPORTS YOUR DATAFRAME TO THE GOOGLE SHEET"
      ],
      "execution_count": null,
      "outputs": []
    },
    {
      "cell_type": "code",
      "metadata": {
        "id": "QnYBreUmzfB1"
      },
      "source": [
        ""
      ],
      "execution_count": null,
      "outputs": []
    }
  ]
}